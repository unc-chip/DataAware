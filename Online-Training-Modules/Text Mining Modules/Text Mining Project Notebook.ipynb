{
 "cells": [
  {
   "cell_type": "markdown",
   "metadata": {
    "heading_collapsed": true
   },
   "source": [
    "# Project Introduction"
   ]
  },
  {
   "cell_type": "markdown",
   "metadata": {
    "hidden": true
   },
   "source": [
    "Congratulations on finishing the modules! This is the project notebook for the text mining track. This will give you a chance to apply your skills. In this project, you will select your dataset, create your own analysis using the skills you've learned in the previous module, and write up your findings. This will give you a chance to get your hands dirty using real healthcare data"
   ]
  },
  {
   "cell_type": "markdown",
   "metadata": {
    "heading_collapsed": true,
    "hidden": true
   },
   "source": [
    "## Project Datasets"
   ]
  },
  {
   "cell_type": "markdown",
   "metadata": {
    "hidden": true
   },
   "source": [
    "Below are a list of carefully curated datasets for you to use. Please read about your selected dataset and run the associated code cell for your dataset. \n",
    "\n",
    "However, if you prefer to use your own dataset go ahead!"
   ]
  },
  {
   "cell_type": "markdown",
   "metadata": {
    "heading_collapsed": true,
    "hidden": true
   },
   "source": [
    "### Drug Review Dataset (Druglib.com) Data Set"
   ]
  },
  {
   "cell_type": "markdown",
   "metadata": {
    "hidden": true
   },
   "source": [
    "The dataset provides patient reviews on specific drugs along with related conditions. Reviews and ratings are grouped into reports on the three aspects benefits, side effects and overall comment.  \n",
    "The dataset provides patient reviews on specific drugs along with related conditions. Furthermore, reviews are grouped into reports on the three aspects benefits, side effects and overall comment. Additionally, ratings are available concerning overall satisfaction as well as a 5 step side effect rating and a 5 step effectiveness rating. The data was obtained by crawling online pharmaceutical review sites. The intention was to study  \n",
    "  \n",
    "(1) sentiment analysis of drug experience over multiple facets, i.e. sentiments learned on specific aspects such as effectiveness and side effects,  \n",
    "(2) the transferability of models among domains, i.e. conditions, and  \n",
    "(3) the transferability of models among different data sources (see 'Drug Review Dataset (Drugs.com)').\n",
    "  \n",
    "The dataset includes a separate testing dataset (drugLibTest_raw.csv). Use drugLibTrain_raw.csv for building a prediction model. Then measure performance metrics (e.g., accuracy, precision, recall, etc) using drugLibTest_raw.csv file. \n",
    "\n",
    "*Source: Felix Gräßer, Surya Kallumadi, Hagen Malberg, and Sebastian Zaunseder. 2018. Aspect-Based Sentiment Analysis of Drug Reviews Applying Cross-Domain and Cross-Data Learning. In Proceedings of the 2018 International Conference on Digital Health (DH '18). ACM, New York, NY, USA, 121-125.*  \n",
    "  \n",
    "Visit https://archive.ics.uci.edu/ml/datasets/Drug+Review+Dataset+%28Druglib.com%29 for more information"
   ]
  },
  {
   "cell_type": "code",
   "execution_count": null,
   "metadata": {
    "ExecuteTime": {
     "end_time": "2020-06-22T02:04:13.392523Z",
     "start_time": "2020-06-22T02:04:13.368Z"
    },
    "hidden": true
   },
   "outputs": [],
   "source": [
    "# Code reading in the training dataset\n",
    "import pandas as pd\n",
    "druglib_train = pd.read_csv('drugLibTrain_raw.csv')"
   ]
  },
  {
   "cell_type": "markdown",
   "metadata": {
    "heading_collapsed": true,
    "hidden": true
   },
   "source": [
    "#### Druglib.com Data Dictionary"
   ]
  },
  {
   "cell_type": "markdown",
   "metadata": {
    "hidden": true
   },
   "source": [
    "1. urlDrugName (categorical): name of drug  \n",
    "2. condition (categorical): name of condition  \n",
    "3. benefitsReview (text): patient on benefits  \n",
    "4. sideEffectsReview (text): patient on side effects  \n",
    "5. commentsReview (text): overall patient comment  \n",
    "6. rating (numerical): 10 star patient rating  \n",
    "7. sideEffects (categorical): 5 step side effect rating  \n",
    "8. effectiveness (categorical): 5 step effectiveness rating  "
   ]
  },
  {
   "cell_type": "markdown",
   "metadata": {
    "heading_collapsed": true,
    "hidden": true
   },
   "source": [
    "### Drug Review Dataset (Drugs.com) Data Set"
   ]
  },
  {
   "cell_type": "markdown",
   "metadata": {
    "hidden": true
   },
   "source": [
    "The dataset provides patient reviews on specific drugs along with related conditions and a 10 star patient rating reflecting overall patient satisfaction. The data was obtained by crawling online pharmaceutical review sites. The intention was to study  \n",
    "  \n",
    "(1) sentiment analysis of drug experience over multiple facets, i.e. sentiments learned on specific aspects such as effectiveness and side effects,  \n",
    "(2) the transferability of models among domains, i.e. conditions, and  \n",
    "(3) the transferability of models among different data sources (see 'Drug Review Dataset (Druglib.com)').  \n",
    "  \n",
    "The dataset includes a separate testing dataset (drugsComTest_raw.csv). Use drugsComTrain_raw.csv for building a prediction model. Then measure performance metrics (e.g., accuracy, precision, recall, etc) using drugsComTest_raw.csv file.  \n",
    "\n",
    "*Source: Felix Gräßer, Surya Kallumadi, Hagen Malberg, and Sebastian Zaunseder. 2018. Aspect-Based Sentiment Analysis of Drug Reviews Applying Cross-Domain and Cross-Data Learning. In Proceedings of the 2018 International Conference on Digital Health (DH '18). ACM, New York, NY, USA, 121-125.  \n",
    "  \n",
    "Visit https://archive.ics.uci.edu/ml/datasets/Drug+Review+Dataset+%28Drugs.com%29 for more information."
   ]
  },
  {
   "cell_type": "code",
   "execution_count": null,
   "metadata": {
    "ExecuteTime": {
     "end_time": "2020-06-22T01:54:14.446320Z",
     "start_time": "2020-06-22T01:54:14.413Z"
    },
    "hidden": true
   },
   "outputs": [],
   "source": [
    "# Code reading in the training dataset\n",
    "\n",
    "import pandas as pd\n",
    "drugs_train = pd.read_csv('drugsComTrain_raw.csv')\n",
    "\n",
    "drugs_train.head()"
   ]
  },
  {
   "cell_type": "markdown",
   "metadata": {
    "hidden": true
   },
   "source": [
    "#### Drugs.com Data Dictionary"
   ]
  },
  {
   "cell_type": "markdown",
   "metadata": {
    "hidden": true
   },
   "source": [
    "1. drugName (categorical): name of drug  \n",
    "2. condition (categorical): name of condition  \n",
    "3. review (text): patient review  \n",
    "4. rating (numerical): 10 star patient rating\n",
    "5. date (date): date of review entry\n",
    "6. usefulCount (numerical): number of users who found review useful"
   ]
  },
  {
   "cell_type": "markdown",
   "metadata": {
    "heading_collapsed": true,
    "hidden": true
   },
   "source": [
    "### Health News Dataset"
   ]
  },
  {
   "cell_type": "markdown",
   "metadata": {
    "hidden": true
   },
   "source": [
    "The data was collected in 2015 using Twitter API. This dataset contains health news from more than 15 major health news agencies such as BBC, CNN, and NYT.  \n",
    "Each file is related to one Twitter account of a news agency. For example, bbchealth.txt is related to BBC health news. Each line contains tweet id|date and time|tweet. The separator is '|'. This text data has been used to evaluate the performance of topic models on short text data. However, it can be used for other tasks such as clustering.  \n",
    "  \n",
    "*Source: Karami, A., Gangopadhyay, A., Zhou, B., & Kharrazi, H. (2017). Fuzzy approach topic discovery in health and medical corpora. International Journal of Fuzzy Systems, 1-12.  \n",
    "  \n",
    "Visit https://archive.ics.uci.edu/ml/datasets/Health+News+in+Twitter for more information."
   ]
  },
  {
   "cell_type": "code",
   "execution_count": null,
   "metadata": {
    "ExecuteTime": {
     "end_time": "2020-06-22T01:05:59.135567Z",
     "start_time": "2020-06-22T01:05:58.962Z"
    },
    "hidden": true
   },
   "outputs": [],
   "source": [
    "# Code reading in the 'cnnhealth.txt'\n",
    "file = open('cnnhealth.txt', encoding='utf-8') # open the original txt file\n",
    "\n",
    "data = {}\n",
    "\n",
    "for line in file:\n",
    "    line = line.strip()\n",
    "    line_elements = line.split('|') # separate four elements (tweet_id, date and tweet) in each line.\n",
    "    tweet_id = line_elements[0] # 'tweet_id' is the first element in each line.\n",
    "    time = line_elements[1] # 'date' is the second element in each line.\n",
    "    tweet = line_elements[2] # 'tweet' is the fourth element in each line.\n",
    "    data.setdefault(tweet_id,{}).setdefault(date, tweet) # see below\n",
    "    \n",
    "file.close()"
   ]
  },
  {
   "cell_type": "markdown",
   "metadata": {
    "heading_collapsed": true,
    "hidden": true
   },
   "source": [
    "### COVID-19 Related Tweets Dataset"
   ]
  },
  {
   "cell_type": "markdown",
   "metadata": {
    "hidden": true
   },
   "source": [
    "This dataset contains tweets in English that are related to COVID-19. For saving space and processing time, we include only tweets published in an hour during each of the days from May 1st 2020 to May 7th 2020. \n",
    "\n",
    "There are three fields in the dataset: \n",
    "- index: the index of the tweet data\n",
    "- date: the date that the tweet was created\n",
    "- content: The text content of the tweet"
   ]
  },
  {
   "cell_type": "code",
   "execution_count": null,
   "metadata": {
    "hidden": true
   },
   "outputs": [],
   "source": [
    "# the following code read the csv file and generate a dataframe for you\n",
    "\n",
    "import pandas as pd\n",
    "covid_df = pd.read_csv('Data/COVID-tweets-examples.csv')\n",
    "covid_df\n",
    "    "
   ]
  },
  {
   "cell_type": "markdown",
   "metadata": {
    "heading_collapsed": true,
    "hidden": true
   },
   "source": [
    "### Conversational search dataset"
   ]
  },
  {
   "cell_type": "markdown",
   "metadata": {
    "hidden": true
   },
   "source": [
    "The below is a [spoken conversational search dataset](https://github.com/JTrippas/Spoken-Conversational-Search). It is created by observing participants addressing information needs of different complexity in an acoustic setting. \n",
    "\n",
    "The file contains 9 columns:\n",
    "\n",
    "* Start time: Start time of the utterance.\n",
    "* Stop time: Stop time of the utterance.\n",
    "* Query: The reference to the information need participants are solving.\n",
    "* Query complexity: One of three levels, referencing the task complexity type (remember, understand, and analyse).\n",
    "* Role: Which of the participants is talking in that particular utterance. The roles are annotated as A_User (participant who has the information need which needs to be solved) and B_Receiver (person who has access the the computer and search engine).\n",
    "* Action: The action the participant takes in that utterance, these actions are described in the code book and allow for reproduction of the results.\n",
    "* Transcript: Transcripts of the utterance of the particular user in that particular times lot.\n",
    "* Query counter: A counter which keeps track of how many turns there have been between the participants in that conversation. For the initial data release only the first two turns are given. However, the first three turns are presented if the second turn is classified under the Meta-communcation Theme (See CHIIR 2017 paper for further information).\n",
    "* File name: Indicating the group number (2-14) and the date of the experiment.\n",
    "\n",
    "*How do people interact in conversational speech-only search tasks: A preliminary analysis.\n",
    "Johanne R. Trippas, Damiano Spina, Lawrence Cavedon, and Mark Sanderson.\n",
    "In Proceedings of the 2017 Conference on Conference Human Information Interaction and Retrieval (CHIIR'17), pp. 325-328. ACM, 2017a.*"
   ]
  },
  {
   "cell_type": "code",
   "execution_count": null,
   "metadata": {
    "hidden": true
   },
   "outputs": [],
   "source": [
    "import pandas as pd\n",
    "transcript_df = pd.read_csv(\"Data/SCSdataset.csv\")\n",
    "transcript_df.head()"
   ]
  },
  {
   "cell_type": "markdown",
   "metadata": {
    "heading_collapsed": true
   },
   "source": [
    "# Help Functions"
   ]
  },
  {
   "cell_type": "markdown",
   "metadata": {
    "hidden": true
   },
   "source": [
    "Below are a list of functions you may find helpful to use in the project. These functions are all based on the modules. You can simply pick up ones in \n",
    "\n",
    "Feel free to refer back to the module. Maybe put your project code and module code side by side if you need. Also to develop your own code is encouraged!"
   ]
  },
  {
   "cell_type": "code",
   "execution_count": null,
   "metadata": {
    "hidden": true,
    "scrolled": false
   },
   "outputs": [],
   "source": [
    "%run TextMiningModuleHelpFunc.ipynb"
   ]
  },
  {
   "cell_type": "markdown",
   "metadata": {
    "heading_collapsed": true
   },
   "source": [
    "# Start project"
   ]
  },
  {
   "cell_type": "markdown",
   "metadata": {
    "hidden": true
   },
   "source": [
    "**Warning**  \n",
    "<font color = blue, size = 4> \n",
    "    Your work will not be saved in Jupyter Notebook. You are recommended to copy your work and paste it to a safe place to record your work.\n",
    "<font>"
   ]
  },
  {
   "cell_type": "markdown",
   "metadata": {
    "hidden": true
   },
   "source": [
    "## How To Download Your Work"
   ]
  },
  {
   "cell_type": "markdown",
   "metadata": {
    "hidden": true
   },
   "source": [
    "The project will be much easier if you are able to download you work and save your progress. The link below will guide you to a resource which will provide instructions for setting up Jupyter Notebook on your own computer. This will allow you to download this notebook and save your work.\n",
    "\n",
    "<a href=\"https://datamine.unc.edu/wp-content/uploads/2020/06/FAQs.pdf\">Link to Instruction</a>"
   ]
  },
  {
   "cell_type": "markdown",
   "metadata": {
    "hidden": true
   },
   "source": [
    "## Before you step in the mud"
   ]
  },
  {
   "cell_type": "markdown",
   "metadata": {
    "hidden": true
   },
   "source": [
    "Ask these three questions: \n",
    "1. What research questions are you in interested in? (1~2 questions are recommended) \n",
    "2. What are the implications of solving these research questions?\n",
    "3. Can the dataset you select answer the questions in step 1?"
   ]
  },
  {
   "cell_type": "markdown",
   "metadata": {
    "hidden": true
   },
   "source": [
    "## Project Input"
   ]
  },
  {
   "cell_type": "markdown",
   "metadata": {
    "hidden": true
   },
   "source": [
    "Use the code cell below to perform your analysis"
   ]
  },
  {
   "cell_type": "code",
   "execution_count": null,
   "metadata": {
    "hidden": true
   },
   "outputs": [],
   "source": []
  },
  {
   "cell_type": "markdown",
   "metadata": {
    "hidden": true
   },
   "source": [
    "Use the cell below the horizontal line for your writeup. Your writeup should describe your analytic process and your findings from your analysis. \n",
    "\n",
    "---"
   ]
  },
  {
   "cell_type": "markdown",
   "metadata": {
    "hidden": true
   },
   "source": []
  }
 ],
 "metadata": {
  "hide_input": false,
  "kernelspec": {
   "display_name": "Python 3",
   "language": "python",
   "name": "python3"
  },
  "language_info": {
   "codemirror_mode": {
    "name": "ipython",
    "version": 3
   },
   "file_extension": ".py",
   "mimetype": "text/x-python",
   "name": "python",
   "nbconvert_exporter": "python",
   "pygments_lexer": "ipython3",
   "version": "3.7.4"
  },
  "toc": {
   "base_numbering": 1,
   "nav_menu": {},
   "number_sections": true,
   "sideBar": true,
   "skip_h1_title": false,
   "title_cell": "Table of Contents",
   "title_sidebar": "Contents",
   "toc_cell": false,
   "toc_position": {},
   "toc_section_display": true,
   "toc_window_display": false
  }
 },
 "nbformat": 4,
 "nbformat_minor": 4
}
