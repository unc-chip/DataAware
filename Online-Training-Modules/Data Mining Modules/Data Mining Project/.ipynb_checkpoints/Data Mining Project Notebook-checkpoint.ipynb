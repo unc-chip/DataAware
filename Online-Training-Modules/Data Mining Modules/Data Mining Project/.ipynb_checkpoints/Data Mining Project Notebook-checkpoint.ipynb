{
 "cells": [
  {
   "cell_type": "markdown",
   "metadata": {
    "heading_collapsed": true
   },
   "source": [
    "# Project Introduction"
   ]
  },
  {
   "cell_type": "markdown",
   "metadata": {
    "hidden": true
   },
   "source": [
    "Congratulations on finishing the modules! This is the project notebook for the data mining track. This will give you a chance to apply your skills. In this project, you will select your dataset, create your own analysis using the skills you've learned in the previous module, and write up your findings. This will give you a chance to get your hands dirty using real healthcare data"
   ]
  },
  {
   "cell_type": "markdown",
   "metadata": {
    "heading_collapsed": true,
    "hidden": true
   },
   "source": [
    "## Project Datasets"
   ]
  },
  {
   "cell_type": "markdown",
   "metadata": {
    "hidden": true
   },
   "source": [
    "Below are a list of carefully curated datasets for you to use. Please read about your selected dataset and run the associated code cell for your dataset. \n",
    "\n",
    "However, if you prefer to use your own dataset go ahead!"
   ]
  },
  {
   "cell_type": "markdown",
   "metadata": {
    "heading_collapsed": true,
    "hidden": true
   },
   "source": [
    "### Diabetes Dataset"
   ]
  },
  {
   "cell_type": "markdown",
   "metadata": {
    "hidden": true
   },
   "source": [
    "This dataset contain over 700 Female Pima American Indian Patient. This data contains several clinical and demographic variables. Your goal will be to predict which patients develop Diabetes.  "
   ]
  },
  {
   "cell_type": "code",
   "execution_count": null,
   "metadata": {
    "ExecuteTime": {
     "end_time": "2020-06-22T02:04:13.392523Z",
     "start_time": "2020-06-22T02:04:13.368Z"
    },
    "hidden": true
   },
   "outputs": [],
   "source": [
    "# Code reading in the dataset\n",
    "diabetes_data <- read.csv(file=\"data/diabetes.csv\",  encoding=\"UTF-8\", header=TRUE, sep=\",\")"
   ]
  },
  {
   "cell_type": "markdown",
   "metadata": {
    "heading_collapsed": true,
    "hidden": true
   },
   "source": [
    "#### Diabetes Data Dictionary"
   ]
  },
  {
   "cell_type": "markdown",
   "metadata": {
    "hidden": true
   },
   "source": [
    "<center>\n",
    "\n",
    "| *Variable*               | *Definition*                                                         |\n",
    "| ------------------------ | -------------------------------------------------------------------- |\n",
    "| Pregnancies              | Number of times pregnant                                             |\n",
    "| Glucose                  | Plasma glucose concentration following a 2 hour oral glucose tolerance test                                             |\n",
    "| BloodPressure            | Diastolic Blood Pressure (mm Hg)                                     | \n",
    "| SkinThickness            | Triceps Skin Fold Thickness (mm)                                     |\n",
    "| Insulin                  | 2-Hour Serum Insulin Levels                                          |\n",
    "| BMI                      | Weight in kg / (Heigh in m)^2                                        |\n",
    "| DiabetesPedigreeFunction | Measure of expected genetic influence on the subject's diabetes risk |\n",
    "| Age                      | Age (Years)                                                          |\n",
    "| Outcome                  | Diabetes as defined as plasma glucose concentration > 200 mg/dl two hours after ingestion of 75 gram carbohydrate solution |\n",
    "\n",
    "\n",
    "</center>"
   ]
  },
  {
   "cell_type": "markdown",
   "metadata": {
    "heading_collapsed": true,
    "hidden": true
   },
   "source": [
    "#### Extra: What is Diabetes?"
   ]
  },
  {
   "cell_type": "markdown",
   "metadata": {
    "hidden": true
   },
   "source": [
    "Diabetes describes a group of metabolic disorders that is characterized by abnormally high blood glucose (blood sugar). Insulin is a critical hormone that allows the body to take up glucose and use it as energy. Diabetes occurs when your body does not produce enough insulin or cannot use insulin well. When this happens, glucose stays in your blood instead of being used as energy. Over time, this glucose in your blood can lead to various health problems. These can include serious complications such as blindness, limb amputation, and stroke. \n",
    "\n",
    "<img src=\"http://cdn.shopify.com/s/files/1/0582/0445/files/blood-sugar-levels-and-paleo_diagram_of_excessive_blood_glucose.jpg?14686865159083212781\" align=\"center\" style=\"margin-bottom: 0.5em; margin-top: 0.5em;\">\n",
    "\n",
    "Diabetes is common among individuals over 45 years old, have a family history of diabetes, and are overweight. Poor lifestyle choices such as not exercising or smoking can also increase the risk. Diabetes is one of the most common conditions in the United States with over 30 million people suffering from diabetes. The total estimated cost of diabetes to the health care system is estimated to be $327 Billion. Current treatment includes insulin and medication to control blood glucose levels. Lifestyle modifications before the onset of diabetes can make a huge difference in whether a person develops diabetes. Any algorithm which could reliably predict diabetes could give providers critical information to intervene before a patient has diabetes."
   ]
  },
  {
   "cell_type": "markdown",
   "metadata": {
    "heading_collapsed": true,
    "hidden": true
   },
   "source": [
    "### Heart Failure Dataset"
   ]
  },
  {
   "cell_type": "markdown",
   "metadata": {
    "hidden": true
   },
   "source": [
    "This is a dataset of over 900 patient enrolled in several international clinical studies. The dataset includes several demographic and clinical variables. Your goal will be to predict which patients develop heart disease. "
   ]
  },
  {
   "cell_type": "code",
   "execution_count": null,
   "metadata": {
    "ExecuteTime": {
     "end_time": "2020-06-22T01:54:14.446320Z",
     "start_time": "2020-06-22T01:54:14.413Z"
    },
    "hidden": true
   },
   "outputs": [],
   "source": [
    "# Code reading in the dataset\n",
    "heart_failure_data <- read.csv(file=\"data/heart_disease.csv\",  encoding=\"UTF-8\", header=TRUE, sep=\",\")"
   ]
  },
  {
   "cell_type": "markdown",
   "metadata": {
    "heading_collapsed": true,
    "hidden": true
   },
   "source": [
    "#### Heart Failure Data Dictionary"
   ]
  },
  {
   "cell_type": "markdown",
   "metadata": {
    "hidden": true
   },
   "source": [
    "| *Column #*| *Definition*                                                                        |\n",
    "| --------- | ----------------------------------------------------------------------------------- |\n",
    "| V1         | age in years                                                                        |\n",
    "| V2         | sex (1 = male; 0 = female)                                                          |\n",
    "| V3         | chest pain (1:typical angina; 2:atypical angina; 3:non-anginal pain; 4:asymptomatic)| \n",
    "| V4         | resting blood pressure on hospital admission (mmHg)                                 |\n",
    "| V5         | serum cholesterol in mg/dl                                                          |\n",
    "| V6         | fasting blood sugar > 120 mg/dl (1=true; 0 = false)                                 |\n",
    "| V7         | resting electrocariographic results (0: normal; 1: ST-T wave abnormality (T wave inversions and/or ST elevation or depression of 0.05 mV); 2: showing probably or definite left ventricular hypertrophy by Estes' criteria                                                                    |\n",
    "| V8         | maximum heart rate acheived                                                         |\n",
    "| V9         | exercise induced angina (1=yes; 0=no)                                               |\n",
    "| V10        | ST depression induced by exercise relative to rest                                  |\n",
    "| V11        | Slope of the peak exercise ST segment (1: upsloping; 2: flat; 3: downsloping)          |\n",
    "| V12        | Number of major vessels (0-3) colored by fluoroscopy                                |\n",
    "| V13        | Exercise thallium scintigraphic defects (fixed, reversible, or none)                |\n",
    "| V14        | Diagnosis of heart disease (angiographic disease status) (0: <50% diameter narrowing, 1: >50% diameter narrowing)                                                                        |\n",
    "| location        | The location of the research study that the patient participated in                                                                        |"
   ]
  },
  {
   "cell_type": "markdown",
   "metadata": {
    "heading_collapsed": true,
    "hidden": true
   },
   "source": [
    "#### Extra: What is Heart Disease?"
   ]
  },
  {
   "cell_type": "markdown",
   "metadata": {
    "hidden": true
   },
   "source": [
    "Heart disease or cardiovascular disease refers to a condition where blood vessels become narrower or occluded. This can lead to numerous life threatening conditions such as heart attack or stroke. Heart disease can be caused by numerous lifestyle factors such as high blood pressure, high cholesterol, smoking, sedentary lifestyle, and stress. \n",
    "\n",
    "<center>\n",
    "  <img width=\"400\" height=\"200\" src=\"https://www.health.harvard.edu/media/content/images/p6_PlaqueArtery_HL1902_gi958536398.jpg\">\n",
    "</center>\n",
    "\n",
    "What makes heart disease so dangerous is that it is a gradual process that does not become symptomatic until you're middle aged or older. At this point, much of the damage has already been done. While heart disease mortality has improved in recent years, it is still one of the most dangerous conditions in the US. Over 600,000 people die of heart disease in the US every year (1 of every 4 deaths). Heart disease is still the leading cause of death among both men and women. Any predictive algorithm that could identify heart disease early could potentially save countless lives. "
   ]
  },
  {
   "cell_type": "markdown",
   "metadata": {
    "heading_collapsed": true,
    "hidden": true
   },
   "source": [
    "### Stroke Dataset"
   ]
  },
  {
   "cell_type": "markdown",
   "metadata": {
    "hidden": true
   },
   "source": [
    "This is a dataset of over 40,000 patients with several associated demographic and clinical features. The goal with this dataset is to predict whether someone will have a stroke"
   ]
  },
  {
   "cell_type": "code",
   "execution_count": null,
   "metadata": {
    "ExecuteTime": {
     "end_time": "2020-06-22T01:05:59.135567Z",
     "start_time": "2020-06-22T01:05:58.962Z"
    },
    "hidden": true
   },
   "outputs": [],
   "source": [
    "# Code reading in the dataset\n",
    "stroke_data <- read.csv(file=\"data/stroke_predict.csv\",  encoding=\"UTF-8\", header=TRUE, sep=\",\")"
   ]
  },
  {
   "cell_type": "markdown",
   "metadata": {
    "heading_collapsed": true,
    "hidden": true
   },
   "source": [
    "#### Stroke Data Dictionary"
   ]
  },
  {
   "cell_type": "markdown",
   "metadata": {
    "hidden": true
   },
   "source": [
    "The data dictionary below will help you make sense of the feature in the data"
   ]
  },
  {
   "cell_type": "markdown",
   "metadata": {
    "hidden": true
   },
   "source": [
    "<center>\n",
    "\n",
    "| *Variable*        | *Definition*                                           |\n",
    "| ----------------- | ------------------------------------------------------ |\n",
    "| id                | Patient ID                                             |\n",
    "| gender            | Gender of Patient                                      |\n",
    "| age               | Age of Patient                                         | \n",
    "| hypertension      | 0 - no hypertension, 1 - suffering from hypertension   |\n",
    "| heart_disease     | 0 - no heart disease, 1 - suffering from heart disease |\n",
    "| ever_married      | Yes/No                                                 |\n",
    "| work_type         | Type of occupation                                     |\n",
    "| Residence_type    | Area type of residence (Urban/ Rural                   |\n",
    "| avg_glucose_level | Average Glucose level (measured after meal)            |\n",
    "| bmi               | Body mass index                                        |\n",
    "| smoking_status    | patient's smoking status                               |\n",
    "| stroke            | patient's smoking status                               |\n",
    "\n",
    "</center>"
   ]
  },
  {
   "cell_type": "markdown",
   "metadata": {
    "heading_collapsed": true,
    "hidden": true
   },
   "source": [
    "#### Extra: What is a Stroke?"
   ]
  },
  {
   "cell_type": "markdown",
   "metadata": {
    "hidden": true
   },
   "source": [
    "Stroke is an acute neurologic condition referred to as a cerebrovascular event. This means stroke is a condition that affects the brain (\"cerebro-\") and involves blood vessels (\"vascular). In stroke, arteries leading to and within the brain are either blocked by a clot or rupture. The end result is lack of oxygen and nutrients to the brain leading to brain damage. \n",
    "\n",
    "\n",
    "<img width=\"500\" height=300 src=\"https://www.strokeinfo.org/wp-content/uploads/2019/06/HTN_16_pg39_art600x400.png\">\n",
    "\n",
    "\n",
    "Stroke is usually diagnosed clinically (by symptoms) and imaging (non-contrast head CT scan). Stroke can exhibit a wide range of symptoms depending on the location affected within the brain. Some nonspecific symptoms include headache (\"worst headache of my life\", nausea, vomiting, loss of consciousness, and neck stiffness. If suspected a non-contrast head CT is ordered to detect bleeding. Depending on whether the stroke is caused by a clot or rupture, treatment will be different. A clot will be treated with blood thinners. A rupture will be treated through emergent neurosurgery. \n",
    "\n",
    "> Stroke require prompt diagnosis and treatment before irreversible damages sets in. Any tool (such as a predictive model) that could make stroke diagnosis quicker or easier could make a large difference in preventing stroke. "
   ]
  },
  {
   "cell_type": "markdown",
   "metadata": {
    "heading_collapsed": true
   },
   "source": [
    "# List of functions"
   ]
  },
  {
   "cell_type": "markdown",
   "metadata": {
    "hidden": true
   },
   "source": [
    "First, please run the code cell below to set-up the module"
   ]
  },
  {
   "cell_type": "code",
   "execution_count": null,
   "metadata": {
    "ExecuteTime": {
     "end_time": "2020-06-22T02:19:55.653838Z",
     "start_time": "2020-06-22T02:19:55.631Z"
    },
    "hidden": true
   },
   "outputs": [],
   "source": [
    "source(\"setup.R\")\n",
    "cat('Setup Complete!')"
   ]
  },
  {
   "cell_type": "markdown",
   "metadata": {
    "hidden": true
   },
   "source": [
    "Below are a list of functions you will need to complete the project. Each of these functions is from each of the modules you encountered in the data mining track. If you do not remember what any of the function do, you may want to review that module which that function comes from. "
   ]
  },
  {
   "cell_type": "markdown",
   "metadata": {
    "heading_collapsed": true,
    "hidden": true
   },
   "source": [
    "## Module 1 (Preparing Data) Functions"
   ]
  },
  {
   "cell_type": "markdown",
   "metadata": {
    "ExecuteTime": {
     "end_time": "2020-06-22T00:24:59.688188Z",
     "start_time": "2020-06-22T00:24:59.648Z"
    },
    "hidden": true
   },
   "source": [
    "```R\n",
    "\n",
    "# Select desired columns from a dataframe into a new dataframe, the numbers are the columns selected, columns can be selected individually or as a range using a colon symbol (:). New dataframe can be replaced with whatever you would like to name the dataframe.  \n",
    "library(dplyr)\n",
    "new_dataframe = select(original_dataframe, 43, 56:123) \n",
    "\n",
    "# Insert a new column in an existing dataframe with values determined by another column present in the dataframe. Useful when changing a single categorical variable into multiple yes or no categories. For example, if the variable is state then the new column could show if a person lives in one state specifically. Yes is represented by a 1 and no is represented by a 0.  \n",
    "library(dplyr)\n",
    "dataframe<- mutate(dataframe, new_column_name = ifelse(name_of_reference_column == 'value_in_reference_column', '1', '0'))\n",
    "\n",
    "# Delete a column from a dataframe, the number with the - sign in front of it is the column that is going to be removed when the code is executed.  \n",
    "dataframe = select(dataframe, -17)\n",
    "\n",
    "# Change data type of a column to factor data type\n",
    "dataframe\\\\$column_name<- as.factor(dataframe\\\\$column_name)\n",
    "\n",
    "# Change data type of a column to numeric data type \n",
    "dataframe\\\\$column_name<- as.numeric(dataframe\\\\$column_name)\n",
    "\n",
    "# Check all variable data types for a dataframe\n",
    "str(dataframe)\n",
    "\n",
    "# Replace null cells in a column with the column mean \n",
    "dataframe = transform(dataframe, column_name = ifelse(is.na(column_name), mean(column_name, na.rm=TRUE), column_name))\n",
    "\n",
    "# Replace null cells in a column with a 0, if 0 is replaced by a 1 then the null will be replaced with a 1.  \n",
    "dataframe\\\\$column_name[is.na(dataframe\\\\$column_name)] <- 0\n",
    "\n",
    "# Random Forest imputation, maxiter is the number of iterations performed, ntree is the number of decision trees created. New dataframe can be replace with a name of your choosing but make sure it ends in .imp as shown below.  \n",
    "library(missForest)\n",
    "library(randomForest)\n",
    "set.seed(96)\n",
    "new_dataframe.imp <- missForest(old_dataframe, verbose = TRUE, maxiter = 3, ntree= 20)\n",
    " \n",
    "\n",
    "# Check imputed values and assign imputed values to a new dataframe. Replace new dataframe with a name of your choosing.  \n",
    "imputed_dataframe.imp\\\\$ximp \n",
    "new_dataframe<- imputed_dataframe.imp\\\\$ximp \n",
    "```"
   ]
  },
  {
   "cell_type": "markdown",
   "metadata": {
    "heading_collapsed": true,
    "hidden": true
   },
   "source": [
    "## Module 2 (Univariate Analysis) Functions"
   ]
  },
  {
   "cell_type": "markdown",
   "metadata": {
    "ExecuteTime": {
     "end_time": "2020-06-22T00:27:17.162166Z",
     "start_time": "2020-06-22T00:27:17.096Z"
    },
    "hidden": true
   },
   "source": [
    "```R\n",
    "# Determine Variable Type\n",
    "class()\n",
    "\n",
    "# Calculate Mean\n",
    "mean()\n",
    "\n",
    "# Calculate Median\n",
    "median()\n",
    "\n",
    "# Calculate Frequencies\n",
    "table()\n",
    "\n",
    "# Percentages is trickier\n",
    "# First use the table function on your variable, then apply the below code\n",
    "prop.table()\n",
    "\n",
    "# For example \n",
    "prop.table(table(my\\\\$variable))\n",
    "\n",
    "# Create Bar Graph\n",
    "bar_graph()\n",
    "\n",
    "# Create Histogram\n",
    "histogram()\n",
    "\n",
    "```"
   ]
  },
  {
   "cell_type": "markdown",
   "metadata": {
    "heading_collapsed": true,
    "hidden": true
   },
   "source": [
    "## Module 3 (Bivariate Analysis) Functions"
   ]
  },
  {
   "cell_type": "markdown",
   "metadata": {
    "hidden": true
   },
   "source": [
    "```R\n",
    "# Load csv file\n",
    "read.csv(path_to_the_csv_file)\n",
    "# For example\n",
    "myData <- read.csv('csv_files/training_v2.csv'）\n",
    "\n",
    "# Show content in the output\n",
    "print(myVariable)\n",
    "# For example\n",
    "myVariable = 'Hello World!'\n",
    "print(myVariable）\n",
    "# This will output \"Hello World!\"\n",
    "\n",
    "# Concatenating two pieces of texts in string data type\n",
    "paste('my first string', 'my second string')\n",
    "\n",
    "# Show the coloumn names of the dataframe generated by read.csv\n",
    "colnames(myData)\n",
    "\n",
    "# Generate a dataframe by subsetting from the original dataframe\n",
    "subset(myData, conditions , select = c(\"column1\",\"column2\", ..., \"columnN\"))\n",
    "# For example\n",
    "height_weight <- subset(myData, is.na(data$height)!=TRUE & is.na(data$weight)!=TRUE , select = c(\"height\",\"weight\"))\n",
    "      \n",
    "# Pearson correlation test\n",
    "cor.test(myVector1, myVector1, method=\"pearson\")\n",
    "# For example\n",
    "cor.test(height_weight$height, height_weight$weight, method=\"pearson\")\n",
    "\n",
    "# Load module/package\n",
    "library()\n",
    "# For example\n",
    "library(ggplot2)      \n",
    "\n",
    "# Generate scatter plot using package ggplot\n",
    "qplot(myVector1, myVector2)\n",
    "# For example\n",
    "qplot(height_weight$height, height_weight$weight)\n",
    "\n",
    "# Output levels of a categorical variable\n",
    "levels(myCategoricalVariable)\n",
    "# For example\n",
    "levels(myData$gender)\n",
    "      \n",
    "# Generate contingency table for frequency\n",
    "table(myDataFrame) # this shoule be a subseted dataframe containing only categorical variable\n",
    "# For example\n",
    "source_gender <- subset(data, hospital_admit_source!='' & gender!='', select=c('hospital_admit_source', 'gender'))\n",
    "source_gender_tab <- table(source_gender)\n",
    "\n",
    "# Refresh (generate) the levels in your categorical variable after you make changes\n",
    "factor(myCategoricalVariable)\n",
    "# For example\n",
    "factor(source_gender$gender)\n",
    "      \n",
    "# Pearson's Chi-squared test\n",
    "chisq.test(myContingencyTable)\n",
    "# For example\n",
    "chisq.test(source_gender_tab)      \n",
    "      \n",
    "# Transform a table into a dataframe\n",
    "data.frame(myContingencyTable)\n",
    "# For example\n",
    "source_gender_tab_df <- data.frame(source_gender_tab)\n",
    "      \n",
    "# Generating bar plot using ggplot\n",
    "ggplot(myDataframe, aes(x=myCategoricalVariable1, y=Frequency, fill=myCategoricalVariable2)) + geom_bar(stat=\"identity\",position=position_dodge()) \n",
    "# For example\n",
    "ggplot(source_gender_tab_df, aes(x=gender, y=Freq, fill=hospital_admit_source)) + geom_bar(stat=\"identity\",position=position_dodge())\n",
    "\n",
    "      \n",
    "# Welch two sample T-Test assuming same variance\n",
    "pairwise.t.test(myNumericalVariable, myCategoricalVariable) # the categorical variable acts as a grouping variable\n",
    "# For example\n",
    "pairwise.t.test(height_gender$height, height_gender$gender)\n",
    "      \n",
    "# Generating box plot using ggplot\n",
    "ggplot(myDataframe, aes(x=myCategoricalVariable, y=myNumericalVariable)) + \n",
    "  geom_boxplot(outlier.colour=\"red\", outlier.shape=8, outlier.size=4)\n",
    "# For example\n",
    "ggplot(height_gender, aes(x=gender, y=height)) + \n",
    "  geom_boxplot(outlier.colour=\"red\", outlier.shape=8,\n",
    "               outlier.size=4)\n",
    "\n",
    "# Show all unique values in a numerical variable\n",
    "unique(myNumericalVariable)\n",
    "# For example\n",
    "unique(data$bmi)\n",
    "      \n",
    "# ANOVA\n",
    "anova(aov(myNumericalVariable~myCategoricalVariable, data=myDataframe))\n",
    "# For example\n",
    "bmi_diag <- subset(data, data$apache_3j_bodysystem != ''& is.na(data$bmi)!=TRUE , select=c('apache_3j_bodysystem', 'bmi'))\n",
    "bmi_diag$apache_3j_bodysystem <- factor(bmi_diag$apache_3j_bodysystem)\n",
    "anova(aov(bmi~apache_3j_bodysystem, data=bmi_diag))\n",
    "```\n"
   ]
  },
  {
   "cell_type": "markdown",
   "metadata": {
    "heading_collapsed": true,
    "hidden": true
   },
   "source": [
    "## Module 4 (Feature Selection) Functions"
   ]
  },
  {
   "cell_type": "markdown",
   "metadata": {
    "hidden": true
   },
   "source": [
    "```R\n",
    "# Create training and testing dataframes, in this case 75 percent will be used for training and 25 percent for testing. \n",
    "library(caTools) \n",
    "smp_size<- floor(0.75 * nrow(dataframe_to_be_split)) \n",
    "set.seed(123) \n",
    "train_ind<- sample(seq_len(nrow(dataframe_to_be_split)), size = smp_size) \n",
    "training_dataframe<- dataframe_to_be_split[train_ind, ] \n",
    "testing_dataframe<- dataframe_to_be_split[-train_ind, ] \n",
    "\n",
    "# Oversample the minority outcome to balance the training data in an effort to improve model performance (not always necessary). In this case the minority outcome will be oversampled so that it occurs 40 percent of the time.  \n",
    "library(ROSE) \n",
    "oversampled_dataframe<- ROSE(column_of_interest~., p = 0.4, data=testing_dataframe, seed=3)\\\\$data \n",
    "\n",
    "# Create a table after oversampling to view the count of the oversampled outcome. \n",
    "table(oversampled_dataframe\\\\$column_of_interest)\n",
    "\n",
    "# Feature selection using recursive feature elimination. 2:18 in this case is the range of the columns used to predict the outcome variable. The outcome variable in this example is column 1.   \n",
    "library(e1071)\n",
    "library(mlbench)\n",
    "library(caret)\n",
    "library(randomForest)\n",
    "rfe_training <- rfeControl(functions=rfFuncs, method=\"cv\", number=10)\n",
    "rfe <- rfe(oversampled_dataframe[,2:18], oversampled_dataframe[,1], sizes=c(2:18), rfeControl=rfe_training)\n",
    "print(rfe)\n",
    "\n",
    "# Show variable rank based on RFE\n",
    "predictors(rfe)\n",
    "\n",
    "# Display graph that highlights the most accurate number of features found using RFE. \n",
    "plot(rfe, type=c(\"g\", \"o\"))\n",
    "\n",
    "# Feature selection using Random Forest \n",
    "library(e1071)\n",
    "library(mlbench)\n",
    "library(caret)\n",
    "library(randomForest)\n",
    "t_training<- trainControl(method = \"repeatedcv\", number=10, repeats=3)\n",
    "seed<- 7\n",
    "metric<- \"Accuracy\"\n",
    "set.seed(seed)\n",
    "mtry<- sqrt(ncol(oversampled_dataframe))\n",
    "tunegrid<-expand.grid(.mtry=mtry)\n",
    "\n",
    "# Train the model using the oversampled dataframe\n",
    "t_model<- train(column_of_interest~., data=oversampled_dataframe, method=\"rf\", metric=metric, tuneGrid=tunegrid, trControl=t_training)\n",
    "\n",
    "# Apply the model to the testing_dataframe. Change new dataframe to a name of your choosing. \n",
    "new_dataframe<- predict(t_model, testing_dataframe)\n",
    "\n",
    "# Analyze the results of running the model on the testing dataframe using a confusion matrix. The dataframe in this example is the one created in the previous step. \n",
    "confusionMatrix(dataframe, testing_dataframe\\\\$column_of_interest)\n",
    "                 \n",
    "# Visualize variable importance in Random Forest model \n",
    "variable_importance<- varImp(t_model)\n",
    "print(variable_importance)\n",
    "```"
   ]
  },
  {
   "cell_type": "markdown",
   "metadata": {
    "heading_collapsed": true,
    "hidden": true
   },
   "source": [
    "## Module 5 (Predictive Analysis) Functions"
   ]
  },
  {
   "cell_type": "markdown",
   "metadata": {
    "hidden": true
   },
   "source": [
    "**Please pay careful attention, these functions require more customization and may be more complicated to use than previous functions**"
   ]
  },
  {
   "cell_type": "markdown",
   "metadata": {
    "ExecuteTime": {
     "end_time": "2020-07-09T02:40:25.753418Z",
     "start_time": "2020-07-09T02:40:25.521Z"
    },
    "hidden": true
   },
   "source": [
    "```R\n",
    "\n",
    "# Split the Data\n",
    "# Use the the code below to setup splitting your data into training and test data\n",
    "# IMPORTANT: Replace wherever it says 'dataset_name' with the name of your dataset\n",
    "# IMPORTANT: Replace wherever it says 'outcome_variable' with the name of your outcome variable\n",
    "split_data <- function(){\n",
    "  # Setting seed value to reproduce results of random sampling\n",
    "  set.seed(123)\n",
    "\n",
    "  # row positions for training data\n",
    "  index <- createDataPartition(dataset_name$outcome_variable, p = 0.80, list = FALSE)\n",
    "\n",
    "  # Creating training data\n",
    "  trainingData <- dataset_name[index, ]  \n",
    "  cat('The number of traning data observations:', length(trainingData$outcome_variable), '\\n') # Checking the amount of training data\n",
    "\n",
    "  # Creating test data\n",
    "  testData  <- dataset_name[-index, ]  \n",
    "  cat('The number of test data observations:', length(testData$outcome_variable)) # Checking the amount of test data\n",
    "}\n",
    "\n",
    "# Split your data into a training and test set\n",
    "split_data()\n",
    "\n",
    "# Check names for all variables in your dataset\n",
    "colnames(dataset_name)\n",
    "\n",
    "# Select features you wish to use for your model\n",
    "features = c(\"feature1\",\"feature2\",\"feature3\")\n",
    "\n",
    "# Setup Code - Logistic Regression\n",
    "# Use this code to train a logistic regression model\n",
    "# IMPORTANT: Copy and paste the code to train your model, replace wherever it says outcome with the name of your \n",
    "# outcome variable\n",
    "test_model_logistic <- function(features){\n",
    "  # Build the model on training data\n",
    "  cat('Training model, please be patient...\\n')\n",
    "  total_variables <- append(features, 'outcome_variable')\n",
    "  play_trainingData <- subset(trainingData,select = total_variables)\n",
    "  play_testData <- subset(testData,select = total_variables)\n",
    "  suppressMessages(attach(trainingData))\n",
    "  mylogit <- suppressWarnings(train(outcome_variable~., data = play_trainingData, method = 'glm', family = 'binomial',na.action=na.omit))\n",
    "  detach(trainingData)\n",
    "  \n",
    "  cat('Model trained!\\n')\n",
    "  # Apply the model to test data\n",
    "  modelPred.na <- predict(mylogit, newdata = play_testData, method = \"glm\", na.action = na.pass)\n",
    "  \n",
    "  cat('Model successfully applied to test data!\\n')\n",
    "  \n",
    "  # Create Confusion matrix\n",
    "  cm <- confusionMatrix(modelPred.na, play_testData$outcome_variable)\n",
    "  \n",
    "  # Create a ROC curve\n",
    "  ROC <- roc(response =play_testData$outcome_variable, predictor = factor(modelPred.na, \n",
    "                                                                        ordered = TRUE, \n",
    "                                                                        levels = c('0', '1')))\n",
    "  # Plot ROC with ggplot2\n",
    "  plot_ROC <- ggroc(ROC)\n",
    "  \n",
    "  # Calculate the area under the curve (AUC)\n",
    "  test <- varImp(mylogit)\n",
    "}\n",
    "\n",
    "# Show confusion matrix\n",
    "print(cm)\n",
    "\n",
    "# Plot ROC Curve\n",
    "print(plot_ROC)\n",
    "\n",
    "# Calculate the area under the curve (AUC)\n",
    "cat('AUC', round(auc(ROC), '\\n'))\n",
    "\n",
    "```"
   ]
  },
  {
   "cell_type": "markdown",
   "metadata": {
    "heading_collapsed": true
   },
   "source": [
    "# Student Input"
   ]
  },
  {
   "cell_type": "markdown",
   "metadata": {
    "hidden": true
   },
   "source": [
    "**Warning**  \n",
    "<font color = blue, size = 4> \n",
    "    Your work will not be saved in Jupyter Notebook. You are recommended to copy your work and paste it to a safe place to record your work.\n",
    "<font>"
   ]
  },
  {
   "cell_type": "markdown",
   "metadata": {
    "heading_collapsed": true,
    "hidden": true
   },
   "source": [
    "## How To Download Your Work"
   ]
  },
  {
   "cell_type": "markdown",
   "metadata": {
    "hidden": true
   },
   "source": [
    "The project will be much easier if you are able to download you work and save your progress. The link below will guide you to a resource which will provide instructions for setting up Jupyter Notebook on your own computer. This will allow you to download this notebook and save your work.\n",
    "\n",
    "<a href=\"https://datamine.unc.edu/wp-content/uploads/2020/06/FAQs.pdf\">Link to Instruction</a>"
   ]
  },
  {
   "cell_type": "markdown",
   "metadata": {
    "heading_collapsed": true,
    "hidden": true
   },
   "source": [
    "## Project Input"
   ]
  },
  {
   "cell_type": "markdown",
   "metadata": {
    "hidden": true
   },
   "source": [
    "Use the code cell below to perform your analysis"
   ]
  },
  {
   "cell_type": "code",
   "execution_count": null,
   "metadata": {
    "hidden": true
   },
   "outputs": [],
   "source": []
  },
  {
   "cell_type": "markdown",
   "metadata": {
    "hidden": true
   },
   "source": [
    "Use the cell below the horizontal line for your writeup. Your writeup should describe your analytic process and your findings from your analysis. \n",
    "\n",
    "---"
   ]
  },
  {
   "cell_type": "markdown",
   "metadata": {
    "hidden": true
   },
   "source": []
  }
 ],
 "metadata": {
  "kernelspec": {
   "display_name": "R",
   "language": "R",
   "name": "ir"
  },
  "language_info": {
   "codemirror_mode": "r",
   "file_extension": ".r",
   "mimetype": "text/x-r-source",
   "name": "R",
   "pygments_lexer": "r",
   "version": "3.6.1"
  },
  "toc": {
   "base_numbering": 1,
   "nav_menu": {},
   "number_sections": true,
   "sideBar": true,
   "skip_h1_title": false,
   "title_cell": "Table of Contents",
   "title_sidebar": "Contents",
   "toc_cell": false,
   "toc_position": {},
   "toc_section_display": true,
   "toc_window_display": false
  }
 },
 "nbformat": 4,
 "nbformat_minor": 4
}
